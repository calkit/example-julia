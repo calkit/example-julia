{
 "cells": [
  {
   "cell_type": "code",
   "execution_count": null,
   "id": "0",
   "metadata": {
    "papermill": {
     "duration": 9.95316,
     "end_time": "2025-10-18T13:33:49.969608",
     "exception": false,
     "start_time": "2025-10-18T13:33:40.016448",
     "status": "completed"
    },
    "tags": []
   },
   "outputs": [],
   "source": [
    "using WaterLily\n",
    "function circle(n, m; Re=100, U=1)\n",
    "    # signed distance function to circle\n",
    "    radius, center = m / 8, m / 2 - 1\n",
    "    sdf(x, t) = √sum(abs2, x .- center) - radius\n",
    "\n",
    "    Simulation((n, m),   # domain size\n",
    "        (U, 0),   # domain velocity (& velocity scale)\n",
    "        2radius; # length scale\n",
    "        ν=U * 2radius / Re,     # fluid viscosity\n",
    "        body=AutoBody(sdf)) # geometry\n",
    "end\n",
    "\n",
    "circ = circle(3 * 2^5, 2^6)\n",
    "sim_step!(circ)\n",
    "\n",
    "using Plots\n",
    "u = circ.flow.u[:, :, 1] # first component is x\n",
    "contourf(u') # transpose the array for the plot"
   ]
  },
  {
   "cell_type": "code",
   "execution_count": null,
   "id": "1",
   "metadata": {
    "papermill": {
     "duration": 3.230515,
     "end_time": "2025-10-18T13:33:53.203221",
     "exception": false,
     "start_time": "2025-10-18T13:33:49.972706",
     "status": "completed"
    },
    "tags": []
   },
   "outputs": [],
   "source": [
    "function get_forces!(sim, t)\n",
    "    sim_step!(sim, t, remeasure=false)\n",
    "    force = WaterLily.pressure_force(sim)\n",
    "    force ./ (0.5sim.L * sim.U^2) # scale the forces!\n",
    "end\n",
    "\n",
    "# Simulate through the time range and get forces\n",
    "time = 1:0.1:50 # time scale is sim.L/sim.U\n",
    "forces = [get_forces!(circ, t) for t in time];\n",
    "\n",
    "#Plot it\n",
    "plot(time, [first.(forces) last.(forces)],\n",
    "    labels=[\"drag\" \"lift\"],\n",
    "    xlabel=\"tU/L\",\n",
    "    ylabel=\"Pressure force coefficients\")"
   ]
  }
 ],
 "metadata": {
  "kernelspec": {
   "display_name": "example-julia: main 1.11.7",
   "language": "julia",
   "name": "example-julia_-main-1.11"
  },
  "language_info": {
   "file_extension": ".jl",
   "mimetype": "application/julia",
   "name": "julia",
   "version": "1.11.7"
  },
  "papermill": {
   "default_parameters": {},
   "duration": 14.5688,
   "end_time": "2025-10-18T13:33:53.476968",
   "environment_variables": {},
   "exception": null,
   "input_path": "notebooks/main.ipynb",
   "output_path": ".calkit/notebooks/executed/notebooks/main.ipynb",
   "parameters": {},
   "start_time": "2025-10-18T13:33:38.908168",
   "version": "2.6.0"
  }
 },
 "nbformat": 4,
 "nbformat_minor": 5
}
